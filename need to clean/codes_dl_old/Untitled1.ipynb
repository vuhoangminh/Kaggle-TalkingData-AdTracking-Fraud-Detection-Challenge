{
 "cells": [
  {
   "cell_type": "code",
   "execution_count": 1,
   "metadata": {},
   "outputs": [
    {
     "name": "stdout",
     "output_type": "stream",
     "text": [
      "train_0\n",
      "load train...\n",
      "done ...\n"
     ]
    }
   ],
   "source": [
    "# Feature Extraction with Univariate Statistical Tests (Chi-squared for classification)\n",
    "import pandas as pd\n",
    "import numpy\n",
    "from sklearn.feature_selection import SelectKBest\n",
    "from sklearn.feature_selection import chi2\n",
    "# load data\n",
    "# url = \"https://raw.githubusercontent.com/jbrownlee/Datasets/master/pima-indians-diabetes.data.csv\"\n",
    "# names = ['preg', 'plas', 'pres', 'skin', 'test', 'mass', 'pedi', 'age', 'class']\n",
    "\n",
    "# \n",
    "train_set_name = 'train_0'\n",
    "\n",
    "print (train_set_name)\n",
    "\n",
    "print (\"load train...\")\n",
    "dataframe = pd.read_pickle(train_set_name)\n",
    "dataframe = dataframe.sample(frac=0.2)\n",
    "print (\"done ...\")"
   ]
  },
  {
   "cell_type": "code",
   "execution_count": 2,
   "metadata": {},
   "outputs": [
    {
     "name": "stdout",
     "output_type": "stream",
     "text": [
      "          app  channel  click_id  device      ip  is_attributed  os  min  \\\n",
      "16442621    1      153       NaN       1   43841            0.0  13   37   \n",
      "10521265   12      245       NaN       1   97392            0.0  20   34   \n",
      "15915691    9      445       NaN       1  201182            0.0  19   43   \n",
      "1012307    12      326       NaN       1   73516            0.0  19   23   \n",
      "6389671    12      178       NaN       1  212099            0.0  13   52   \n",
      "\n",
      "          hour  day  wday  ipcount   qty  ip_app_count  ip_app_os_count  \n",
      "16442621     7    8     2       52    52           122               37  \n",
      "10521265     3    8     2       27    27           231                5  \n",
      "15915691    13    8     2     1040  1040          2313              505  \n",
      "1012307     11    7     1     2544  2544         47577            11928  \n",
      "6389671      4    7     1       12    12            22                7  \n"
     ]
    }
   ],
   "source": [
    "print(dataframe.head())"
   ]
  },
  {
   "cell_type": "code",
   "execution_count": 3,
   "metadata": {},
   "outputs": [
    {
     "name": "stdout",
     "output_type": "stream",
     "text": [
      "          app  channel  device  os  min  hour  day  wday  ipcount   qty  \\\n",
      "16442621    1      153       1  13   37     7    8     2       52    52   \n",
      "10521265   12      245       1  20   34     3    8     2       27    27   \n",
      "15915691    9      445       1  19   43    13    8     2     1040  1040   \n",
      "1012307    12      326       1  19   23    11    7     1     2544  2544   \n",
      "6389671    12      178       1  13   52     4    7     1       12    12   \n",
      "\n",
      "          ip_app_count  ip_app_os_count  is_attributed  \n",
      "16442621           122               37            0.0  \n",
      "10521265           231                5            0.0  \n",
      "15915691          2313              505            0.0  \n",
      "1012307          47577            11928            0.0  \n",
      "6389671             22                7            0.0  \n"
     ]
    }
   ],
   "source": [
    "# columnsTitles=[\"is_attributed\",\"ip_app_os_count\"]\n",
    "columnsTitles = ['app', 'channel', 'device', 'os', 'min' ,'hour', 'day', 'wday', 'ipcount', 'qty', 'ip_app_count', 'ip_app_os_count', 'is_attributed']\n",
    "dataframe=dataframe.reindex(columns=columnsTitles)\n",
    "print(dataframe.head())"
   ]
  },
  {
   "cell_type": "code",
   "execution_count": 4,
   "metadata": {},
   "outputs": [
    {
     "name": "stdout",
     "output_type": "stream",
     "text": [
      "fitting ...\n",
      "['app', 'channel', 'device', 'os', 'min', 'hour', 'day', 'wday', 'ipcount', 'qty', 'ip_app_count', 'ip_app_os_count', 'is_attributed']\n",
      "[3.833e-01 2.195e-01 6.664e-02 1.749e-03 5.028e-06 7.253e-04 1.659e-06\n",
      " 7.091e-06 5.612e-01 5.612e-01 1.367e+01 1.378e+00]\n",
      "[[1.000e+00 1.530e+02 1.000e+00 1.300e+01 5.200e+01 5.200e+01 1.220e+02\n",
      "  3.700e+01]\n",
      " [1.200e+01 2.450e+02 1.000e+00 2.000e+01 2.700e+01 2.700e+01 2.310e+02\n",
      "  5.000e+00]\n",
      " [9.000e+00 4.450e+02 1.000e+00 1.900e+01 1.040e+03 1.040e+03 2.313e+03\n",
      "  5.050e+02]\n",
      " [1.200e+01 3.260e+02 1.000e+00 1.900e+01 2.544e+03 2.544e+03 4.758e+04\n",
      "  1.193e+04]\n",
      " [1.200e+01 1.780e+02 1.000e+00 1.300e+01 1.200e+01 1.200e+01 2.200e+01\n",
      "  7.000e+00]]\n"
     ]
    }
   ],
   "source": [
    "array = dataframe.values\n",
    "X = array[:,0:12]\n",
    "Y = array[:,12]\n",
    "# feature extraction\n",
    "test = SelectKBest(score_func=chi2, k=8)\n",
    "print (\"fitting ...\")\n",
    "fit = test.fit(X, Y)\n",
    "# summarize scores\n",
    "numpy.set_printoptions(precision=3)\n",
    "print(columnsTitles)\n",
    "print(fit.scores_/1000000)\n",
    "features = fit.transform(X)\n",
    "# summarize selected features\n",
    "print(features[0:5,:])"
   ]
  },
  {
   "cell_type": "code",
   "execution_count": 5,
   "metadata": {},
   "outputs": [
    {
     "name": "stdout",
     "output_type": "stream",
     "text": [
      "Num Features: %d\n"
     ]
    },
    {
     "ename": "TypeError",
     "evalue": "unsupported operand type(s) for %: 'NoneType' and 'int'",
     "output_type": "error",
     "traceback": [
      "\u001b[1;31m---------------------------------------------------------------------------\u001b[0m",
      "\u001b[1;31mTypeError\u001b[0m                                 Traceback (most recent call last)",
      "\u001b[1;32m<ipython-input-5-097fb3b9bf4a>\u001b[0m in \u001b[0;36m<module>\u001b[1;34m()\u001b[0m\n\u001b[0;32m      8\u001b[0m \u001b[0mrfe\u001b[0m \u001b[1;33m=\u001b[0m \u001b[0mRFE\u001b[0m\u001b[1;33m(\u001b[0m\u001b[0mmodel\u001b[0m\u001b[1;33m,\u001b[0m \u001b[1;36m3\u001b[0m\u001b[1;33m)\u001b[0m\u001b[1;33m\u001b[0m\u001b[0m\n\u001b[0;32m      9\u001b[0m \u001b[0mfit\u001b[0m \u001b[1;33m=\u001b[0m \u001b[0mrfe\u001b[0m\u001b[1;33m.\u001b[0m\u001b[0mfit\u001b[0m\u001b[1;33m(\u001b[0m\u001b[0mX\u001b[0m\u001b[1;33m,\u001b[0m \u001b[0mY\u001b[0m\u001b[1;33m)\u001b[0m\u001b[1;33m\u001b[0m\u001b[0m\n\u001b[1;32m---> 10\u001b[1;33m \u001b[0mprint\u001b[0m\u001b[1;33m(\u001b[0m\u001b[1;34m\"Num Features: %d\"\u001b[0m\u001b[1;33m)\u001b[0m \u001b[1;33m%\u001b[0m \u001b[0mfit\u001b[0m\u001b[1;33m.\u001b[0m\u001b[0mn_features_\u001b[0m\u001b[1;33m\u001b[0m\u001b[0m\n\u001b[0m\u001b[0;32m     11\u001b[0m \u001b[0mprint\u001b[0m\u001b[1;33m(\u001b[0m\u001b[1;34m\"Selected Features: %s\"\u001b[0m\u001b[1;33m)\u001b[0m \u001b[1;33m%\u001b[0m \u001b[0mfit\u001b[0m\u001b[1;33m.\u001b[0m\u001b[0msupport_\u001b[0m\u001b[1;33m\u001b[0m\u001b[0m\n\u001b[0;32m     12\u001b[0m \u001b[0mprint\u001b[0m\u001b[1;33m(\u001b[0m\u001b[1;34m\"Feature Ranking: %s\"\u001b[0m\u001b[1;33m)\u001b[0m \u001b[1;33m%\u001b[0m \u001b[0mfit\u001b[0m\u001b[1;33m.\u001b[0m\u001b[0mranking_\u001b[0m\u001b[1;33m\u001b[0m\u001b[0m\n",
      "\u001b[1;31mTypeError\u001b[0m: unsupported operand type(s) for %: 'NoneType' and 'int'"
     ]
    }
   ],
   "source": [
    "# from sklearn.feature_selection import RFE\n",
    "# from sklearn.linear_model import LogisticRegression\n",
    "# # array = dataframe.values\n",
    "# # X = array[:,0:12]\n",
    "# # Y = array[:,12]\n",
    "# # feature extraction\n",
    "# model = LogisticRegression()\n",
    "# rfe = RFE(model, 3)\n",
    "# fit = rfe.fit(X, Y)\n",
    "# print(\"Num Features: %d\") % fit.n_features_\n",
    "# print(\"Selected Features: %s\") % fit.support_\n",
    "# print(\"Feature Ranking: %s\") % fit.ranking_"
   ]
  },
  {
   "cell_type": "code",
   "execution_count": 7,
   "metadata": {},
   "outputs": [
    {
     "name": "stdout",
     "output_type": "stream",
     "text": [
      "[0.173 0.139 0.047 0.096 0.134 0.09  0.01  0.008 0.086 0.084 0.083 0.052]\n"
     ]
    }
   ],
   "source": [
    "from sklearn.ensemble import ExtraTreesClassifier\n",
    "# feature extraction\n",
    "model = ExtraTreesClassifier()\n",
    "model.fit(X, Y)\n",
    "print(model.feature_importances_)"
   ]
  },
  {
   "cell_type": "code",
   "execution_count": 9,
   "metadata": {},
   "outputs": [
    {
     "name": "stdout",
     "output_type": "stream",
     "text": [
      "['app', 'channel', 'device', 'os', 'min', 'hour', 'day', 'wday', 'ipcount', 'qty', 'ip_app_count', 'ip_app_os_count', 'is_attributed']\n",
      "[17.251 13.853  4.746  9.56  13.413  8.977  0.977  0.77   8.592  8.357\n",
      "  8.322  5.183]\n"
     ]
    }
   ],
   "source": [
    "print(columnsTitles)\n",
    "print(model.feature_importances_*100)"
   ]
  },
  {
   "cell_type": "code",
   "execution_count": null,
   "metadata": {},
   "outputs": [],
   "source": []
  }
 ],
 "metadata": {
  "kernelspec": {
   "display_name": "Python 3",
   "language": "python",
   "name": "python3"
  },
  "language_info": {
   "codemirror_mode": {
    "name": "ipython",
    "version": 3
   },
   "file_extension": ".py",
   "mimetype": "text/x-python",
   "name": "python",
   "nbconvert_exporter": "python",
   "pygments_lexer": "ipython3",
   "version": "3.5.4"
  }
 },
 "nbformat": 4,
 "nbformat_minor": 2
}
